{
  "nbformat": 4,
  "nbformat_minor": 0,
  "metadata": {
    "colab": {
      "provenance": [],
      "authorship_tag": "ABX9TyO/zxNUwD9BBXOUuAegSmHE"
    },
    "kernelspec": {
      "name": "python3",
      "display_name": "Python 3"
    },
    "language_info": {
      "name": "python"
    }
  },
  "cells": [
    {
      "cell_type": "code",
      "execution_count": 33,
      "metadata": {
        "colab": {
          "base_uri": "https://localhost:8080/"
        },
        "id": "28AwfQbuQOqY",
        "outputId": "c468739b-6d96-410e-eff2-847320ca89ac"
      },
      "outputs": [
        {
          "output_type": "stream",
          "name": "stdout",
          "text": [
            "O total de colegas que respondeu a pesquisa é igual a 40 .\n",
            "\n",
            "\n",
            "Ordem crescente das respostas:  [0, 0, 0, 0, 0, 0, 0, 0, 0, 0, 0, 0, 1, 1, 1, 1, 1, 1, 1, 1, 1, 1, 1, 1, 1, 1, 1, 1, 1, 1, 1, 1, 2, 2, 2, 2, 2, 2, 2, 2] .\n",
            "\n",
            "\n",
            "---------------------------VOTAÇÃO--------------------------\n",
            "\n",
            "\n",
            "O curso \"Engenharia de Software\" recebeu  12  votos ficando com um percentual de 30.0 %.\n",
            "\n",
            "\n",
            "O curso \"Python para Data Science\" recebeu  20  votos ficando com um percentual de 50.0 %.\n",
            "\n",
            "\n",
            "O curso \"Introdução à Java\" recebeu  8  votos ficando com um percentual de 20.0 %.\n",
            "\n",
            "\n",
            "\n",
            "\n",
            "O curso \"Python para Data Science\" teve a maior quantidade de votos com um total de 20 votações, ficando com um percentual de 50.0 %.\n"
          ]
        }
      ],
      "source": [
        "cursos = ['Engenharia de Software', 'Python para Data Science', 'Introdução à Java']\n",
        "\n",
        "respostas = [1, 2, 0, 1, 1, 1, 1, 0, 0, 2, 2, 0, 1, 1, 1, 1, 2, 0, 1, 1, 0, 1, 0, 2, 1, 1, 0, 2, 2, 1, 0, 1, 1, 0, 0, 0, 1, 1, 2, 1]\n",
        "\n",
        "len(respostas)\n",
        "\n",
        "total = len(respostas)\n",
        "print(\"O total de colegas que respondeu a pesquisa é igual a\", total, \".\")\n",
        "print(\"\\n\")\n",
        "\n",
        "respostas.sort()\n",
        "print('Ordem crescente das respostas: ', respostas, \".\")\n",
        "print(\"\\n\")\n",
        "\n",
        "print('---------------------------VOTAÇÃO--------------------------')\n",
        "print(\"\\n\")\n",
        "\n",
        "engenharia_software = respostas.count(0)\n",
        "print('O curso \"Engenharia de Software\" recebeu ', engenharia_software, ' votos ficando com um percentual de', (engenharia_software / len(respostas)) * 100, \"%.\")\n",
        "print(\"\\n\")\n",
        "\n",
        "python_data_science = respostas.count(1)\n",
        "print('O curso \"Python para Data Science\" recebeu ', python_data_science, ' votos ficando com um percentual de', (python_data_science / len(respostas)) * 100, \"%.\")\n",
        "print(\"\\n\")\n",
        "\n",
        "introducao_java = respostas.count(2)\n",
        "print('O curso \"Introdução à Java\" recebeu ', introducao_java, ' votos ficando com um percentual de', (introducao_java / len(respostas)) * 100, \"%.\")\n",
        "print(\"\\n\")\n",
        "print(\"\\n\")\n",
        "\n",
        "if (engenharia_software > python_data_science) and (engenharia_software > introducao_java):\n",
        "  print('O curso \"Engenharia de Software\" teve a maior quantidade de votos com um total de', engenharia_software, 'votações, ficando com um percentual de', (engenharia_software / len(respostas)) * 100, '%.')\n",
        "elif (python_data_science > engenharia_software) and (python_data_science > introducao_java):\n",
        "  print('O curso \"Python para Data Science\" teve a maior quantidade de votos com um total de', python_data_science, 'votações, ficando com um percentual de', (python_data_science / len(respostas)) * 100, '%.')\n",
        "else:\n",
        "  print('O curso \"Introdução à Java\" teve a maior quantidade de votos com um total de', introducao_java, 'votações, ficando com um percentual de', (introducao_java / len(respostas)) * 100, '%.')"
      ]
    }
  ]
}